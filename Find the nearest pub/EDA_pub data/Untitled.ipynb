{
 "cells": [
  {
   "cell_type": "code",
   "execution_count": null,
   "id": "65fa9626",
   "metadata": {},
   "outputs": [],
   "source": []
  },
  {
   "cell_type": "markdown",
   "id": "7a6e0f2b",
   "metadata": {},
   "source": [
    "### Importing libaries"
   ]
  },
  {
   "cell_type": "code",
   "execution_count": 2,
   "id": "e41d4855",
   "metadata": {},
   "outputs": [],
   "source": [
    "import pandas as pd\n",
    "import numpy as np\n",
    "import matplotlib.pyplot as plt\n",
    "import seaborn as sns\n",
    "import warnings\n",
    "warnings.filterwarnings(\"ignore\")\n",
    "from scipy.stats import norm"
   ]
  },
  {
   "cell_type": "markdown",
   "id": "5e4e1b39",
   "metadata": {},
   "source": [
    "### Loading data"
   ]
  },
  {
   "cell_type": "code",
   "execution_count": 3,
   "id": "36454134",
   "metadata": {},
   "outputs": [],
   "source": [
    "data = pd.read_csv('open_pubs.csv')"
   ]
  },
  {
   "cell_type": "markdown",
   "id": "5f5a7870",
   "metadata": {},
   "source": [
    "### Shape of the data"
   ]
  },
  {
   "cell_type": "code",
   "execution_count": 4,
   "id": "6a11791d",
   "metadata": {},
   "outputs": [
    {
     "data": {
      "text/plain": [
       "(51331, 9)"
      ]
     },
     "execution_count": 4,
     "metadata": {},
     "output_type": "execute_result"
    }
   ],
   "source": [
    "data.shape"
   ]
  },
  {
   "cell_type": "markdown",
   "id": "5ca18f77",
   "metadata": {},
   "source": [
    "#### There are 51330 data points and 9 columns."
   ]
  },
  {
   "cell_type": "markdown",
   "id": "15a44f77",
   "metadata": {},
   "source": [
    "### Checking head of the data"
   ]
  },
  {
   "cell_type": "code",
   "execution_count": 5,
   "id": "60c4146a",
   "metadata": {},
   "outputs": [
    {
     "data": {
      "text/html": [
       "<div>\n",
       "<style scoped>\n",
       "    .dataframe tbody tr th:only-of-type {\n",
       "        vertical-align: middle;\n",
       "    }\n",
       "\n",
       "    .dataframe tbody tr th {\n",
       "        vertical-align: top;\n",
       "    }\n",
       "\n",
       "    .dataframe thead th {\n",
       "        text-align: right;\n",
       "    }\n",
       "</style>\n",
       "<table border=\"1\" class=\"dataframe\">\n",
       "  <thead>\n",
       "    <tr style=\"text-align: right;\">\n",
       "      <th></th>\n",
       "      <th>fsa_id</th>\n",
       "      <th>name</th>\n",
       "      <th>address</th>\n",
       "      <th>postcode</th>\n",
       "      <th>easting</th>\n",
       "      <th>northing</th>\n",
       "      <th>lattitude</th>\n",
       "      <th>longitude</th>\n",
       "      <th>local_authority</th>\n",
       "    </tr>\n",
       "  </thead>\n",
       "  <tbody>\n",
       "    <tr>\n",
       "      <th>0</th>\n",
       "      <td>22</td>\n",
       "      <td>Anchor Inn</td>\n",
       "      <td>Upper Street, Stratford St Mary, COLCHESTER</td>\n",
       "      <td>CO7 6LW</td>\n",
       "      <td>604749</td>\n",
       "      <td>234404</td>\n",
       "      <td>51.970379</td>\n",
       "      <td>0.97934</td>\n",
       "      <td>Babergh</td>\n",
       "    </tr>\n",
       "    <tr>\n",
       "      <th>1</th>\n",
       "      <td>36</td>\n",
       "      <td>Ark Bar Restaurant</td>\n",
       "      <td>Ark Bar And Restaurant, Cattawade Street, Bran...</td>\n",
       "      <td>CO11 1RH</td>\n",
       "      <td>610194</td>\n",
       "      <td>233329</td>\n",
       "      <td>51.958698</td>\n",
       "      <td>1.057832</td>\n",
       "      <td>Babergh</td>\n",
       "    </tr>\n",
       "    <tr>\n",
       "      <th>2</th>\n",
       "      <td>74</td>\n",
       "      <td>Black Boy</td>\n",
       "      <td>The Lady Elizabeth, 7 Market Hill, SUDBURY, Su...</td>\n",
       "      <td>CO10 2EA</td>\n",
       "      <td>587334</td>\n",
       "      <td>241316</td>\n",
       "      <td>52.038595</td>\n",
       "      <td>0.729915</td>\n",
       "      <td>Babergh</td>\n",
       "    </tr>\n",
       "    <tr>\n",
       "      <th>3</th>\n",
       "      <td>75</td>\n",
       "      <td>Black Horse</td>\n",
       "      <td>Lower Street, Stratford St Mary, COLCHESTER</td>\n",
       "      <td>CO7 6JS</td>\n",
       "      <td>622675</td>\n",
       "      <td>-5527598</td>\n",
       "      <td>\\N</td>\n",
       "      <td>\\N</td>\n",
       "      <td>Babergh</td>\n",
       "    </tr>\n",
       "    <tr>\n",
       "      <th>4</th>\n",
       "      <td>76</td>\n",
       "      <td>Black Lion</td>\n",
       "      <td>Lion Road, Glemsford, SUDBURY</td>\n",
       "      <td>CO10 7RF</td>\n",
       "      <td>622675</td>\n",
       "      <td>-5527598</td>\n",
       "      <td>\\N</td>\n",
       "      <td>\\N</td>\n",
       "      <td>Babergh</td>\n",
       "    </tr>\n",
       "  </tbody>\n",
       "</table>\n",
       "</div>"
      ],
      "text/plain": [
       "   fsa_id                name  \\\n",
       "0      22          Anchor Inn   \n",
       "1      36  Ark Bar Restaurant   \n",
       "2      74           Black Boy   \n",
       "3      75         Black Horse   \n",
       "4      76          Black Lion   \n",
       "\n",
       "                                             address  postcode  easting  \\\n",
       "0        Upper Street, Stratford St Mary, COLCHESTER   CO7 6LW   604749   \n",
       "1  Ark Bar And Restaurant, Cattawade Street, Bran...  CO11 1RH   610194   \n",
       "2  The Lady Elizabeth, 7 Market Hill, SUDBURY, Su...  CO10 2EA   587334   \n",
       "3        Lower Street, Stratford St Mary, COLCHESTER   CO7 6JS   622675   \n",
       "4                      Lion Road, Glemsford, SUDBURY  CO10 7RF   622675   \n",
       "\n",
       "   northing  lattitude longitude local_authority  \n",
       "0    234404  51.970379   0.97934         Babergh  \n",
       "1    233329  51.958698  1.057832         Babergh  \n",
       "2    241316  52.038595  0.729915         Babergh  \n",
       "3  -5527598         \\N        \\N         Babergh  \n",
       "4  -5527598         \\N        \\N         Babergh  "
      ]
     },
     "execution_count": 5,
     "metadata": {},
     "output_type": "execute_result"
    }
   ],
   "source": [
    "data.head()"
   ]
  },
  {
   "cell_type": "markdown",
   "id": "90056717",
   "metadata": {},
   "source": [
    "### Replacing special characters in lattitude and longitude"
   ]
  },
  {
   "cell_type": "code",
   "execution_count": 6,
   "id": "8351ee19",
   "metadata": {},
   "outputs": [],
   "source": [
    "data.replace('\\\\N', np.nan, inplace=True)"
   ]
  },
  {
   "cell_type": "code",
   "execution_count": 7,
   "id": "3b495cb1",
   "metadata": {},
   "outputs": [
    {
     "data": {
      "text/html": [
       "<div>\n",
       "<style scoped>\n",
       "    .dataframe tbody tr th:only-of-type {\n",
       "        vertical-align: middle;\n",
       "    }\n",
       "\n",
       "    .dataframe tbody tr th {\n",
       "        vertical-align: top;\n",
       "    }\n",
       "\n",
       "    .dataframe thead th {\n",
       "        text-align: right;\n",
       "    }\n",
       "</style>\n",
       "<table border=\"1\" class=\"dataframe\">\n",
       "  <thead>\n",
       "    <tr style=\"text-align: right;\">\n",
       "      <th></th>\n",
       "      <th>fsa_id</th>\n",
       "      <th>name</th>\n",
       "      <th>address</th>\n",
       "      <th>postcode</th>\n",
       "      <th>easting</th>\n",
       "      <th>northing</th>\n",
       "      <th>lattitude</th>\n",
       "      <th>longitude</th>\n",
       "      <th>local_authority</th>\n",
       "    </tr>\n",
       "  </thead>\n",
       "  <tbody>\n",
       "    <tr>\n",
       "      <th>0</th>\n",
       "      <td>22</td>\n",
       "      <td>Anchor Inn</td>\n",
       "      <td>Upper Street, Stratford St Mary, COLCHESTER</td>\n",
       "      <td>CO7 6LW</td>\n",
       "      <td>604749</td>\n",
       "      <td>234404</td>\n",
       "      <td>51.970379</td>\n",
       "      <td>0.97934</td>\n",
       "      <td>Babergh</td>\n",
       "    </tr>\n",
       "    <tr>\n",
       "      <th>1</th>\n",
       "      <td>36</td>\n",
       "      <td>Ark Bar Restaurant</td>\n",
       "      <td>Ark Bar And Restaurant, Cattawade Street, Bran...</td>\n",
       "      <td>CO11 1RH</td>\n",
       "      <td>610194</td>\n",
       "      <td>233329</td>\n",
       "      <td>51.958698</td>\n",
       "      <td>1.057832</td>\n",
       "      <td>Babergh</td>\n",
       "    </tr>\n",
       "    <tr>\n",
       "      <th>2</th>\n",
       "      <td>74</td>\n",
       "      <td>Black Boy</td>\n",
       "      <td>The Lady Elizabeth, 7 Market Hill, SUDBURY, Su...</td>\n",
       "      <td>CO10 2EA</td>\n",
       "      <td>587334</td>\n",
       "      <td>241316</td>\n",
       "      <td>52.038595</td>\n",
       "      <td>0.729915</td>\n",
       "      <td>Babergh</td>\n",
       "    </tr>\n",
       "    <tr>\n",
       "      <th>3</th>\n",
       "      <td>75</td>\n",
       "      <td>Black Horse</td>\n",
       "      <td>Lower Street, Stratford St Mary, COLCHESTER</td>\n",
       "      <td>CO7 6JS</td>\n",
       "      <td>622675</td>\n",
       "      <td>-5527598</td>\n",
       "      <td>NaN</td>\n",
       "      <td>NaN</td>\n",
       "      <td>Babergh</td>\n",
       "    </tr>\n",
       "    <tr>\n",
       "      <th>4</th>\n",
       "      <td>76</td>\n",
       "      <td>Black Lion</td>\n",
       "      <td>Lion Road, Glemsford, SUDBURY</td>\n",
       "      <td>CO10 7RF</td>\n",
       "      <td>622675</td>\n",
       "      <td>-5527598</td>\n",
       "      <td>NaN</td>\n",
       "      <td>NaN</td>\n",
       "      <td>Babergh</td>\n",
       "    </tr>\n",
       "  </tbody>\n",
       "</table>\n",
       "</div>"
      ],
      "text/plain": [
       "   fsa_id                name  \\\n",
       "0      22          Anchor Inn   \n",
       "1      36  Ark Bar Restaurant   \n",
       "2      74           Black Boy   \n",
       "3      75         Black Horse   \n",
       "4      76          Black Lion   \n",
       "\n",
       "                                             address  postcode  easting  \\\n",
       "0        Upper Street, Stratford St Mary, COLCHESTER   CO7 6LW   604749   \n",
       "1  Ark Bar And Restaurant, Cattawade Street, Bran...  CO11 1RH   610194   \n",
       "2  The Lady Elizabeth, 7 Market Hill, SUDBURY, Su...  CO10 2EA   587334   \n",
       "3        Lower Street, Stratford St Mary, COLCHESTER   CO7 6JS   622675   \n",
       "4                      Lion Road, Glemsford, SUDBURY  CO10 7RF   622675   \n",
       "\n",
       "   northing  lattitude longitude local_authority  \n",
       "0    234404  51.970379   0.97934         Babergh  \n",
       "1    233329  51.958698  1.057832         Babergh  \n",
       "2    241316  52.038595  0.729915         Babergh  \n",
       "3  -5527598        NaN       NaN         Babergh  \n",
       "4  -5527598        NaN       NaN         Babergh  "
      ]
     },
     "execution_count": 7,
     "metadata": {},
     "output_type": "execute_result"
    }
   ],
   "source": [
    "data.head()"
   ]
  },
  {
   "cell_type": "code",
   "execution_count": null,
   "id": "9d80f5d8",
   "metadata": {},
   "outputs": [],
   "source": []
  },
  {
   "cell_type": "markdown",
   "id": "7ce76b22",
   "metadata": {},
   "source": [
    "### Checking information of the data"
   ]
  },
  {
   "cell_type": "code",
   "execution_count": 8,
   "id": "6e5afd4a",
   "metadata": {},
   "outputs": [
    {
     "name": "stdout",
     "output_type": "stream",
     "text": [
      "<class 'pandas.core.frame.DataFrame'>\n",
      "RangeIndex: 51331 entries, 0 to 51330\n",
      "Data columns (total 9 columns):\n",
      " #   Column           Non-Null Count  Dtype \n",
      "---  ------           --------------  ----- \n",
      " 0   fsa_id           51331 non-null  int64 \n",
      " 1   name             51331 non-null  object\n",
      " 2   address          51331 non-null  object\n",
      " 3   postcode         51331 non-null  object\n",
      " 4   easting          51331 non-null  int64 \n",
      " 5   northing         51331 non-null  int64 \n",
      " 6   lattitude        50564 non-null  object\n",
      " 7   longitude        50564 non-null  object\n",
      " 8   local_authority  51331 non-null  object\n",
      "dtypes: int64(3), object(6)\n",
      "memory usage: 3.5+ MB\n"
     ]
    }
   ],
   "source": [
    "data.info()"
   ]
  },
  {
   "cell_type": "markdown",
   "id": "0080869b",
   "metadata": {},
   "source": [
    "##### Here fsa_id,easting and northing are int data type. Remaing all features are object data types."
   ]
  },
  {
   "cell_type": "markdown",
   "id": "d5d9184e",
   "metadata": {},
   "source": [
    "### Checking five point summary for the numerical data"
   ]
  },
  {
   "cell_type": "code",
   "execution_count": 9,
   "id": "77bfc3a7",
   "metadata": {},
   "outputs": [
    {
     "data": {
      "text/html": [
       "<div>\n",
       "<style scoped>\n",
       "    .dataframe tbody tr th:only-of-type {\n",
       "        vertical-align: middle;\n",
       "    }\n",
       "\n",
       "    .dataframe tbody tr th {\n",
       "        vertical-align: top;\n",
       "    }\n",
       "\n",
       "    .dataframe thead th {\n",
       "        text-align: right;\n",
       "    }\n",
       "</style>\n",
       "<table border=\"1\" class=\"dataframe\">\n",
       "  <thead>\n",
       "    <tr style=\"text-align: right;\">\n",
       "      <th></th>\n",
       "      <th>fsa_id</th>\n",
       "      <th>easting</th>\n",
       "      <th>northing</th>\n",
       "    </tr>\n",
       "  </thead>\n",
       "  <tbody>\n",
       "    <tr>\n",
       "      <th>count</th>\n",
       "      <td>51331.000000</td>\n",
       "      <td>51331.000000</td>\n",
       "      <td>5.133100e+04</td>\n",
       "    </tr>\n",
       "    <tr>\n",
       "      <th>mean</th>\n",
       "      <td>299395.371861</td>\n",
       "      <td>429857.397810</td>\n",
       "      <td>2.271941e+05</td>\n",
       "    </tr>\n",
       "    <tr>\n",
       "      <th>std</th>\n",
       "      <td>169362.451341</td>\n",
       "      <td>98559.032868</td>\n",
       "      <td>7.277388e+05</td>\n",
       "    </tr>\n",
       "    <tr>\n",
       "      <th>min</th>\n",
       "      <td>22.000000</td>\n",
       "      <td>78110.000000</td>\n",
       "      <td>-5.527598e+06</td>\n",
       "    </tr>\n",
       "    <tr>\n",
       "      <th>25%</th>\n",
       "      <td>167750.000000</td>\n",
       "      <td>361449.000000</td>\n",
       "      <td>1.792440e+05</td>\n",
       "    </tr>\n",
       "    <tr>\n",
       "      <th>50%</th>\n",
       "      <td>303719.000000</td>\n",
       "      <td>428772.000000</td>\n",
       "      <td>2.872490e+05</td>\n",
       "    </tr>\n",
       "    <tr>\n",
       "      <th>75%</th>\n",
       "      <td>438957.500000</td>\n",
       "      <td>509796.500000</td>\n",
       "      <td>4.089420e+05</td>\n",
       "    </tr>\n",
       "    <tr>\n",
       "      <th>max</th>\n",
       "      <td>597137.000000</td>\n",
       "      <td>655277.000000</td>\n",
       "      <td>1.209661e+06</td>\n",
       "    </tr>\n",
       "  </tbody>\n",
       "</table>\n",
       "</div>"
      ],
      "text/plain": [
       "              fsa_id        easting      northing\n",
       "count   51331.000000   51331.000000  5.133100e+04\n",
       "mean   299395.371861  429857.397810  2.271941e+05\n",
       "std    169362.451341   98559.032868  7.277388e+05\n",
       "min        22.000000   78110.000000 -5.527598e+06\n",
       "25%    167750.000000  361449.000000  1.792440e+05\n",
       "50%    303719.000000  428772.000000  2.872490e+05\n",
       "75%    438957.500000  509796.500000  4.089420e+05\n",
       "max    597137.000000  655277.000000  1.209661e+06"
      ]
     },
     "execution_count": 9,
     "metadata": {},
     "output_type": "execute_result"
    }
   ],
   "source": [
    "data.describe()"
   ]
  },
  {
   "cell_type": "markdown",
   "id": "24cb667e",
   "metadata": {},
   "source": [
    "### Checking the duplicate values in the data"
   ]
  },
  {
   "cell_type": "code",
   "execution_count": 10,
   "id": "6319c103",
   "metadata": {},
   "outputs": [
    {
     "data": {
      "text/plain": [
       "0"
      ]
     },
     "execution_count": 10,
     "metadata": {},
     "output_type": "execute_result"
    }
   ],
   "source": [
    "data.duplicated().sum()"
   ]
  },
  {
   "cell_type": "markdown",
   "id": "a5ec36a8",
   "metadata": {},
   "source": [
    "##### There are no duplicate values in the data."
   ]
  },
  {
   "cell_type": "markdown",
   "id": "a305ebf2",
   "metadata": {},
   "source": [
    "### Checking missing values"
   ]
  },
  {
   "cell_type": "code",
   "execution_count": 11,
   "id": "f51eaf9b",
   "metadata": {},
   "outputs": [
    {
     "data": {
      "text/plain": [
       "fsa_id               0\n",
       "name                 0\n",
       "address              0\n",
       "postcode             0\n",
       "easting              0\n",
       "northing             0\n",
       "lattitude          767\n",
       "longitude          767\n",
       "local_authority      0\n",
       "dtype: int64"
      ]
     },
     "execution_count": 11,
     "metadata": {},
     "output_type": "execute_result"
    }
   ],
   "source": [
    "data.isna().sum()"
   ]
  },
  {
   "cell_type": "markdown",
   "id": "0972adc8",
   "metadata": {},
   "source": [
    "##### There are 767 missing values in the lattitude and longitude."
   ]
  },
  {
   "cell_type": "markdown",
   "id": "697e63f6",
   "metadata": {},
   "source": [
    "### Dropping missing values"
   ]
  },
  {
   "cell_type": "code",
   "execution_count": 12,
   "id": "d4ddd84d",
   "metadata": {},
   "outputs": [],
   "source": [
    "data.dropna(inplace=True)"
   ]
  },
  {
   "cell_type": "code",
   "execution_count": 13,
   "id": "225d23d9",
   "metadata": {},
   "outputs": [
    {
     "data": {
      "text/plain": [
       "fsa_id             0\n",
       "name               0\n",
       "address            0\n",
       "postcode           0\n",
       "easting            0\n",
       "northing           0\n",
       "lattitude          0\n",
       "longitude          0\n",
       "local_authority    0\n",
       "dtype: int64"
      ]
     },
     "execution_count": 13,
     "metadata": {},
     "output_type": "execute_result"
    }
   ],
   "source": [
    "data.isna().sum()"
   ]
  },
  {
   "cell_type": "markdown",
   "id": "92d1451e",
   "metadata": {},
   "source": [
    "### Converting data types"
   ]
  },
  {
   "cell_type": "code",
   "execution_count": 14,
   "id": "44f86bf0",
   "metadata": {},
   "outputs": [],
   "source": [
    "data[\"lattitude\"] = data[\"lattitude\"].astype(float)"
   ]
  },
  {
   "cell_type": "code",
   "execution_count": 15,
   "id": "47f7dcd5",
   "metadata": {},
   "outputs": [],
   "source": [
    "data[\"longitude\"] = data[\"longitude\"].astype(float)"
   ]
  },
  {
   "cell_type": "code",
   "execution_count": 16,
   "id": "151161df",
   "metadata": {},
   "outputs": [
    {
     "data": {
      "text/plain": [
       "fsa_id               int64\n",
       "name                object\n",
       "address             object\n",
       "postcode            object\n",
       "easting              int64\n",
       "northing             int64\n",
       "lattitude          float64\n",
       "longitude          float64\n",
       "local_authority     object\n",
       "dtype: object"
      ]
     },
     "execution_count": 16,
     "metadata": {},
     "output_type": "execute_result"
    }
   ],
   "source": [
    "data.dtypes"
   ]
  },
  {
   "cell_type": "markdown",
   "id": "e9bd73f8",
   "metadata": {},
   "source": [
    "##### Now the data types of lattitude and longitude has been changed to flaot. "
   ]
  },
  {
   "cell_type": "markdown",
   "id": "94fb49b0",
   "metadata": {},
   "source": [
    "### checking unique values"
   ]
  },
  {
   "cell_type": "code",
   "execution_count": 17,
   "id": "e2d252fb",
   "metadata": {},
   "outputs": [
    {
     "data": {
      "text/plain": [
       "fsa_id             50564\n",
       "name               35809\n",
       "address            49291\n",
       "postcode           45231\n",
       "easting            43228\n",
       "northing           43895\n",
       "lattitude          46809\n",
       "longitude          46806\n",
       "local_authority      360\n",
       "dtype: int64"
      ]
     },
     "execution_count": 17,
     "metadata": {},
     "output_type": "execute_result"
    }
   ],
   "source": [
    "data.nunique()"
   ]
  },
  {
   "cell_type": "code",
   "execution_count": null,
   "id": "c13d26d8",
   "metadata": {},
   "outputs": [],
   "source": []
  },
  {
   "cell_type": "code",
   "execution_count": 33,
   "id": "d1850dca",
   "metadata": {},
   "outputs": [],
   "source": [
    "data.to_csv(\"New_pub_data.csv\",index=False)"
   ]
  },
  {
   "cell_type": "code",
   "execution_count": null,
   "id": "5041c9a1",
   "metadata": {},
   "outputs": [],
   "source": []
  }
 ],
 "metadata": {
  "kernelspec": {
   "display_name": "Python 3 (ipykernel)",
   "language": "python",
   "name": "python3"
  },
  "language_info": {
   "codemirror_mode": {
    "name": "ipython",
    "version": 3
   },
   "file_extension": ".py",
   "mimetype": "text/x-python",
   "name": "python",
   "nbconvert_exporter": "python",
   "pygments_lexer": "ipython3",
   "version": "3.9.7"
  }
 },
 "nbformat": 4,
 "nbformat_minor": 5
}
